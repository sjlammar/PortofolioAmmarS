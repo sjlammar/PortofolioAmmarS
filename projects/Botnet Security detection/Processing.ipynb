{
 "cells": [
  {
   "cell_type": "code",
   "execution_count": 1,
   "metadata": {
    "colab": {
     "base_uri": "https://localhost:8080/"
    },
    "id": "Irm1bBUONJyw",
    "outputId": "4095a29a-c664-4f1d-a566-892ceca6ed31",
    "tags": []
   },
   "outputs": [
    {
     "name": "stdout",
     "output_type": "stream",
     "text": [
      "--2024-07-16 12:07:02--  https://mcfp.felk.cvut.cz/publicDatasets/CTU-13-Dataset/CTU-13-Dataset.tar.bz2\n",
      "Resolving mcfp.felk.cvut.cz (mcfp.felk.cvut.cz)... 147.32.82.194\n",
      "Connecting to mcfp.felk.cvut.cz (mcfp.felk.cvut.cz)|147.32.82.194|:443... connected.\n",
      "HTTP request sent, awaiting response... 200 OK\n",
      "Length: 1997547391 (1.9G) [application/x-bzip2]\n",
      "Saving to: ‘CTU-13-Dataset.tar.bz2’\n",
      "\n",
      "CTU-13-Dataset.tar. 100%[===================>]   1.86G  9.75MB/s    in 3m 12s  \n",
      "\n",
      "2024-07-16 12:10:15 (9.93 MB/s) - ‘CTU-13-Dataset.tar.bz2’ saved [1997547391/1997547391]\n",
      "\n"
     ]
    }
   ],
   "source": [
    "!wget https://mcfp.felk.cvut.cz/publicDatasets/CTU-13-Dataset/CTU-13-Dataset.tar.bz2"
   ]
  },
  {
   "cell_type": "code",
   "execution_count": 3,
   "metadata": {
    "tags": []
   },
   "outputs": [
    {
     "name": "stdout",
     "output_type": "stream",
     "text": [
      "CTU-13-Dataset/\n",
      "CTU-13-Dataset/4/\n",
      "CTU-13-Dataset/4/botnet-capture-20110815-rbot-dos.pcap\n",
      "CTU-13-Dataset/4/capture20110815.binetflow\n",
      "CTU-13-Dataset/4/README\n",
      "CTU-13-Dataset/4/rbot.exe\n",
      "CTU-13-Dataset/1/\n",
      "CTU-13-Dataset/1/Neris.exe\n",
      "CTU-13-Dataset/1/README.html\n",
      "CTU-13-Dataset/1/capture20110810.binetflow\n",
      "CTU-13-Dataset/1/botnet-capture-20110810-neris.pcap\n",
      "CTU-13-Dataset/12/\n",
      "CTU-13-Dataset/12/botnet-capture-20110819-bot.pcap\n",
      "CTU-13-Dataset/12/capture20110819.binetflow\n",
      "CTU-13-Dataset/12/README\n",
      "CTU-13-Dataset/12/3d3d%3F%3F%3F%3F.xls.exe\n",
      "CTU-13-Dataset/7/\n",
      "CTU-13-Dataset/7/sogou_explorer_silent_1.4.0.418_2136.exe\n",
      "CTU-13-Dataset/7/botnet-capture-20110816-sogou.pcap\n",
      "CTU-13-Dataset/7/capture20110816-2.binetflow\n",
      "CTU-13-Dataset/7/README\n",
      "CTU-13-Dataset/8/\n",
      "CTU-13-Dataset/8/capture20110816-3.binetflow\n",
      "CTU-13-Dataset/8/QvodSetuPuls23.exe\n",
      "CTU-13-Dataset/8/botnet-capture-20110816-qvod.pcap\n",
      "CTU-13-Dataset/8/README\n",
      "CTU-13-Dataset/5/\n",
      "CTU-13-Dataset/5/botnet-capture-20110815-fast-flux.pcap\n",
      "CTU-13-Dataset/5/e4f816462c4fc84bb250e2b1d295bf23_85f9a5247afbe51e64794193f1dd72eb_unpacked.exe\n",
      "CTU-13-Dataset/5/README\n",
      "CTU-13-Dataset/5/capture20110815-2.binetflow\n",
      "CTU-13-Dataset/10/\n",
      "CTU-13-Dataset/10/README\n",
      "CTU-13-Dataset/10/capture20110818.binetflow\n",
      "CTU-13-Dataset/10/rbot.exe\n",
      "CTU-13-Dataset/10/botnet-capture-20110818-bot.pcap\n",
      "CTU-13-Dataset/6/\n",
      "CTU-13-Dataset/6/botnet-capture-20110816-donbot.pcap\n",
      "CTU-13-Dataset/6/capture20110816.binetflow\n",
      "CTU-13-Dataset/6/README\n",
      "CTU-13-Dataset/6/svchosta.exe\n",
      "CTU-13-Dataset/9/\n",
      "CTU-13-Dataset/9/Neris.exe\n",
      "CTU-13-Dataset/9/botnet-capture-20110817-bot.pcap\n",
      "CTU-13-Dataset/9/README\n",
      "CTU-13-Dataset/9/capture20110817.binetflow\n",
      "CTU-13-Dataset/3/\n",
      "CTU-13-Dataset/3/capture20110812.binetflow\n",
      "CTU-13-Dataset/3/botnet-capture-20110812-rbot.pcap\n",
      "CTU-13-Dataset/3/README\n",
      "CTU-13-Dataset/3/rbot.exe\n",
      "CTU-13-Dataset/2/\n",
      "CTU-13-Dataset/2/Neris.exe\n",
      "CTU-13-Dataset/2/capture20110811.binetflow\n",
      "CTU-13-Dataset/2/botnet-capture-20110811-neris.pcap\n",
      "CTU-13-Dataset/2/README\n",
      "CTU-13-Dataset/13/\n",
      "CTU-13-Dataset/13/botnet-capture-20110815-fast-flux-2.pcap\n",
      "CTU-13-Dataset/13/e4f816462c4fc84bb250e2b1d295bf23_85f9a5247afbe51e64794193f1dd72eb_unpacked.exe\n",
      "CTU-13-Dataset/13/README\n",
      "CTU-13-Dataset/13/capture20110815-3.binetflow\n",
      "CTU-13-Dataset/11/\n",
      "CTU-13-Dataset/11/botnet-capture-20110818-bot-2.pcap\n",
      "CTU-13-Dataset/11/README\n",
      "CTU-13-Dataset/11/rbot.exe\n",
      "CTU-13-Dataset/11/capture20110818-2.binetflow\n"
     ]
    }
   ],
   "source": [
    "!tar -xvjf CTU-13-Dataset.tar.bz2"
   ]
  },
  {
   "cell_type": "code",
   "execution_count": 4,
   "metadata": {
    "tags": []
   },
   "outputs": [
    {
     "name": "stdout",
     "output_type": "stream",
     "text": [
      "File telah disalin ke dataset3.binetflow\n"
     ]
    }
   ],
   "source": [
    "# Tentukan path file sumber dan path tujuan\n",
    "source_file = 'CTU-13-Dataset/3/capture20110812.binetflow'\n",
    "destination_file = 'dataset3.binetflow'\n",
    "\n",
    "# Jalankan perintah cp melalui shell\n",
    "!cp {source_file} {destination_file}\n",
    "\n",
    "print(f\"File telah disalin ke {destination_file}\")\n"
   ]
  },
  {
   "cell_type": "code",
   "execution_count": 3,
   "metadata": {
    "tags": []
   },
   "outputs": [
    {
     "name": "stdout",
     "output_type": "stream",
     "text": [
      "Collecting tables\n",
      "  Using cached tables-3.9.2-cp310-cp310-manylinux_2_17_x86_64.manylinux2014_x86_64.whl.metadata (2.3 kB)\n",
      "Requirement already satisfied: numpy>=1.19.0 in /opt/conda/lib/python3.10/site-packages (from tables) (1.23.5)\n",
      "Collecting numexpr>=2.6.2 (from tables)\n",
      "  Using cached numexpr-2.10.1-cp310-cp310-manylinux_2_27_x86_64.manylinux_2_28_x86_64.whl.metadata (1.2 kB)\n",
      "Requirement already satisfied: packaging in /opt/conda/lib/python3.10/site-packages (from tables) (24.0)\n",
      "Collecting py-cpuinfo (from tables)\n",
      "  Using cached py_cpuinfo-9.0.0-py3-none-any.whl.metadata (794 bytes)\n",
      "Collecting blosc2>=2.3.0 (from tables)\n",
      "  Using cached blosc2-2.7.0-cp310-cp310-manylinux_2_17_x86_64.manylinux2014_x86_64.whl.metadata (9.1 kB)\n",
      "Collecting ndindex>=1.4 (from blosc2>=2.3.0->tables)\n",
      "  Using cached ndindex-1.8-py3-none-any.whl.metadata (3.4 kB)\n",
      "Requirement already satisfied: msgpack in /opt/conda/lib/python3.10/site-packages (from blosc2>=2.3.0->tables) (1.0.8)\n",
      "Using cached tables-3.9.2-cp310-cp310-manylinux_2_17_x86_64.manylinux2014_x86_64.whl (7.5 MB)\n",
      "Using cached blosc2-2.7.0-cp310-cp310-manylinux_2_17_x86_64.manylinux2014_x86_64.whl (4.4 MB)\n",
      "Using cached numexpr-2.10.1-cp310-cp310-manylinux_2_27_x86_64.manylinux_2_28_x86_64.whl (405 kB)\n",
      "Using cached py_cpuinfo-9.0.0-py3-none-any.whl (22 kB)\n",
      "Using cached ndindex-1.8-py3-none-any.whl (91 kB)\n",
      "Installing collected packages: py-cpuinfo, numexpr, ndindex, blosc2, tables\n",
      "Successfully installed blosc2-2.7.0 ndindex-1.8 numexpr-2.10.1 py-cpuinfo-9.0.0 tables-3.9.2\n"
     ]
    }
   ],
   "source": [
    "!pip install tables"
   ]
  },
  {
   "cell_type": "code",
   "execution_count": 2,
   "metadata": {
    "colab": {
     "base_uri": "https://localhost:8080/"
    },
    "id": "OdlEoTssNQjx",
    "outputId": "0eb297a1-093f-471f-f90a-bdbb168ae6b1",
    "tags": []
   },
   "outputs": [
    {
     "name": "stdout",
     "output_type": "stream",
     "text": [
      "2.0.3\n"
     ]
    }
   ],
   "source": [
    "import pandas as pd\n",
    "import numpy as np\n",
    "import datetime\n",
    "import h5py\n",
    "from scipy.stats import mode\n",
    "from scipy.sparse import csc_matrix\n",
    "import matplotlib.pyplot as plt\n",
    "import matplotlib.dates as mdates\n",
    "from sklearn import model_selection, feature_selection, utils, ensemble, linear_model, metrics\n",
    "\n",
    "window_width = 120 # seconds\n",
    "window_stride = 60 # seconds\n",
    "print(pd.__version__)"
   ]
  },
  {
   "cell_type": "code",
   "execution_count": 6,
   "metadata": {
    "id": "cu8AjPp2NU7j",
    "tags": []
   },
   "outputs": [],
   "source": [
    "data = pd.read_csv(\"dataset3.binetflow\")"
   ]
  },
  {
   "cell_type": "code",
   "execution_count": 7,
   "metadata": {
    "id": "msBxbZldNY_O",
    "tags": []
   },
   "outputs": [],
   "source": [
    "def normalize_column(dt, column):\n",
    "    mean = dt[column].mean()\n",
    "    std = dt[column].std()\n",
    "    print(mean, std)\n",
    "\n",
    "    dt[column] = (dt[column]-mean) / std"
   ]
  },
  {
   "cell_type": "code",
   "execution_count": 8,
   "metadata": {
    "id": "tIrad8w9OXCi",
    "tags": []
   },
   "outputs": [],
   "source": [
    "#mengubah kolom starttime menjadi datetime menjadi integer yang mewakili nanodetik sejak epoch (1970-01-01 00:00:00 UTC)\n",
    "#dan mengkonversinya menjadi detik\n",
    "data['StartTime'] = pd.to_datetime(data['StartTime']).astype(np.int64)*1e-9\n",
    "datetime_start = data['StartTime'].min()"
   ]
  },
  {
   "cell_type": "code",
   "execution_count": 9,
   "metadata": {
    "id": "NTcqYaR1ObRQ",
    "tags": []
   },
   "outputs": [],
   "source": [
    "data['Window_lower'] = (data['StartTime']-datetime_start-window_width)/window_stride+1\n",
    "data['Window_lower'].clip(lower=0, inplace=True)\n",
    "data['Window_upper_excl'] = (data['StartTime']-datetime_start)/window_stride+1\n",
    "data = data.astype({\"Window_lower\": int, \"Window_upper_excl\": int})\n",
    "data.drop('StartTime', axis=1, inplace=True)"
   ]
  },
  {
   "cell_type": "code",
   "execution_count": 10,
   "metadata": {
    "id": "SMGG_bglwJYR",
    "tags": []
   },
   "outputs": [],
   "source": [
    "unique_lower = data['Window_lower'].max()\n",
    "unique_upper = data['Window_upper_excl'].max()"
   ]
  },
  {
   "cell_type": "code",
   "execution_count": 11,
   "metadata": {
    "id": "x5tuKvYLwOY1",
    "tags": []
   },
   "outputs": [],
   "source": [
    "data['Label'], labels = pd.factorize(data['Label'].str.slice(0, 15))"
   ]
  },
  {
   "cell_type": "code",
   "execution_count": 12,
   "metadata": {
    "id": "oWnB998mwUbU",
    "tags": []
   },
   "outputs": [],
   "source": [
    "unique_labels = data['Label'].unique()"
   ]
  },
  {
   "cell_type": "code",
   "execution_count": 13,
   "metadata": {
    "id": "fNn--rTkxULo",
    "tags": []
   },
   "outputs": [],
   "source": [
    "#print(data.dtypes)\n",
    "Xi = pd.DataFrame() #membuat data frame kosong\n",
    "Xo = pd.DataFrame()\n",
    "nb_windows = data['Window_upper_excl'].max()"
   ]
  },
  {
   "cell_type": "code",
   "execution_count": 14,
   "metadata": {
    "id": "1gwN405Nxr7j",
    "tags": []
   },
   "outputs": [],
   "source": [
    "# mengelompokkan data dari address yang sama\n",
    "for i in range(0, nb_windows):\n",
    "    gb = data.loc[(data['Window_lower'] <= i) & (data['Window_upper_excl'] > i)].groupby('SrcAddr')\n",
    "    Xi = pd.concat([Xi,gb.agg({'Sport':'nunique',\n",
    "                                                       'DstAddr':'nunique',\n",
    "                                                       'Dport':'nunique',\n",
    "                                                       'Dur':['sum', 'mean', 'std', 'max', 'median'],\n",
    "                                                       'TotBytes':['sum', 'mean', 'std', 'max', 'median'],\n",
    "                                                       'SrcBytes':['sum', 'mean', 'std', 'max', 'median'],\n",
    "                                                       'Label':lambda x: mode(x)[0]}).reset_index().assign(window_id=i)])\n",
    "    Xo=pd.concat([Xo,gb.size().to_frame(name='counts')])"
   ]
  },
  {
   "cell_type": "code",
   "execution_count": 15,
   "metadata": {
    "id": "tL0jO_AeCRRo",
    "tags": []
   },
   "outputs": [],
   "source": [
    "Xi.columns = ['_'.join(col).strip() if isinstance(col, tuple) else col for col in Xi.columns.values]\n",
    "Xi = Xi.drop(columns=['SrcAddr_'])"
   ]
  },
  {
   "cell_type": "code",
   "execution_count": 16,
   "metadata": {
    "id": "jTDwRXGCDFgL",
    "tags": []
   },
   "outputs": [],
   "source": [
    "Xo = Xo.reset_index()\n",
    "Xi = Xi.reset_index()\n",
    "result = pd.concat([Xo.reset_index(drop=True), Xi.reset_index(drop=True)], axis=1)"
   ]
  },
  {
   "cell_type": "code",
   "execution_count": 17,
   "metadata": {
    "colab": {
     "base_uri": "https://localhost:8080/"
    },
    "id": "2UUPxRBiT4kx",
    "outputId": "464fc7a6-7ed5-4310-f286-0452e99f65be",
    "tags": []
   },
   "outputs": [],
   "source": [
    "result = result.drop(columns=['index'])"
   ]
  },
  {
   "cell_type": "code",
   "execution_count": 18,
   "metadata": {
    "id": "0LKQ0AJHVhJe",
    "tags": []
   },
   "outputs": [],
   "source": [
    "#mengisi NaN dengan -1\n",
    "result.fillna(-1, inplace=True)"
   ]
  },
  {
   "cell_type": "code",
   "execution_count": 19,
   "metadata": {
    "colab": {
     "base_uri": "https://localhost:8080/"
    },
    "id": "fjN4NtGUXC8B",
    "outputId": "6eabf50b-dff7-4d4d-cd35-c56cfa622215",
    "tags": []
   },
   "outputs": [
    {
     "name": "stdout",
     "output_type": "stream",
     "text": [
      "counts                  4.653001\n",
      "Sport_nunique           3.990277\n",
      "DstAddr_nunique         1.493815\n",
      "Dport_nunique           1.586069\n",
      "Dur_sum               827.470732\n",
      "Dur_mean              589.578809\n",
      "Dur_std                32.791083\n",
      "Dur_max               635.657827\n",
      "Dur_median            583.326355\n",
      "TotBytes_sum       120021.740889\n",
      "TotBytes_mean       43718.330005\n",
      "TotBytes_std        24729.081224\n",
      "TotBytes_max        91182.035603\n",
      "TotBytes_median     37309.170603\n",
      "SrcBytes_sum        31776.700218\n",
      "SrcBytes_mean       14299.186517\n",
      "SrcBytes_std         8139.303522\n",
      "SrcBytes_max        29258.596695\n",
      "SrcBytes_median     11778.931615\n",
      "dtype: float64 counts             1.250211e+02\n",
      "Sport_nunique      4.715955e+01\n",
      "DstAddr_nunique    9.235606e+00\n",
      "Dport_nunique      1.187169e+02\n",
      "Dur_sum            5.050917e+03\n",
      "Dur_mean           1.132974e+03\n",
      "Dur_std            2.250292e+02\n",
      "Dur_max            1.185246e+03\n",
      "Dur_median         1.137732e+03\n",
      "TotBytes_sum       8.459116e+06\n",
      "TotBytes_mean      4.396375e+06\n",
      "TotBytes_std       2.836499e+06\n",
      "TotBytes_max       7.087301e+06\n",
      "TotBytes_median    4.226872e+06\n",
      "SrcBytes_sum       4.870874e+06\n",
      "SrcBytes_mean      2.249247e+06\n",
      "SrcBytes_std       2.330163e+06\n",
      "SrcBytes_max       4.801116e+06\n",
      "SrcBytes_median    1.956292e+06\n",
      "dtype: float64\n"
     ]
    }
   ],
   "source": [
    "columns_to_normalize = list(result.columns.values)\n",
    "columns_to_normalize.remove('SrcAddr')\n",
    "columns_to_normalize.remove('Label_<lambda>')\n",
    "columns_to_normalize.remove('window_id_')\n",
    "\n",
    "normalize_column(result, columns_to_normalize)\n",
    "#normalisasi kecuali kolom tertentu"
   ]
  },
  {
   "cell_type": "code",
   "execution_count": 22,
   "metadata": {
    "id": "qBCiQDCAXmUW",
    "tags": []
   },
   "outputs": [],
   "source": [
    "result.drop('SrcAddr', axis=1).to_hdf('data_window_botnet3.h5', key=\"data\", mode=\"w\")\n",
    "np.save(\"data_window_botnet3_id.npy\", result['SrcAddr'])\n",
    "np.save(\"data_window_botnet3_labels.npy\", labels)"
   ]
  },
  {
   "cell_type": "code",
   "execution_count": 23,
   "metadata": {
    "colab": {
     "base_uri": "https://localhost:8080/"
    },
    "id": "gfACato2agWc",
    "outputId": "bff3b19d-fc00-478b-d75a-8b479450797b",
    "tags": []
   },
   "outputs": [
    {
     "name": "stdout",
     "output_type": "stream",
     "text": [
      "                Dur Proto          SrcAddr  Sport    Dir         DstAddr  \\\n",
      "0         11.337043   tcp     195.68.34.68  52475     ->   147.32.86.165   \n",
      "1          2.962470   tcp     147.32.86.58   1393     ->    77.75.73.156   \n",
      "2          2.962828   tcp    201.54.33.206   2550     ->   147.32.86.110   \n",
      "3          1.986249   tcp  221.134.221.114   8204     ->   147.32.84.189   \n",
      "4        767.978638   tcp     147.32.84.59  49156     ->     147.32.80.7   \n",
      "...             ...   ...              ...    ...    ...             ...   \n",
      "4710633    0.002210   udp      147.32.85.2  55572    <->     147.32.80.9   \n",
      "4710634    0.000312   udp      147.32.85.2  61416    <->     147.32.80.9   \n",
      "4710635    0.006138   tcp      147.32.85.2  49590     ->  195.113.232.98   \n",
      "4710636    0.000549   udp    89.176.63.143  27520    <->   147.32.84.229   \n",
      "4710637    0.000358   udp    81.33.153.210  20176    <->   147.32.84.229   \n",
      "\n",
      "         Dport      State  sTos  dTos  TotPkts  TotBytes  SrcBytes  Label  \\\n",
      "0        12114      SR_SA   0.0   0.0       11       824       606      0   \n",
      "1           80       SR_A   0.0   0.0        3       182       122      0   \n",
      "2          443       S_RA   0.0   0.0        4       240       120      0   \n",
      "3        51413       S_RA   0.0   0.0        4       252       132      0   \n",
      "4           80  SRPA_FSPA   0.0   0.0       14      3710       774      0   \n",
      "...        ...        ...   ...   ...      ...       ...       ...    ...   \n",
      "4710633     53        CON   0.0   0.0        2       505        78      4   \n",
      "4710634     53        CON   0.0   0.0        2       369        78      4   \n",
      "4710635     80    SPA_SPA   0.0   0.0        9      5206       295      0   \n",
      "4710636  13363        CON   0.0   0.0        2       131        71      0   \n",
      "4710637  13363        CON   0.0   0.0        2       252       190      0   \n",
      "\n",
      "         Window_lower  Window_upper_excl  \n",
      "0                   0                  2  \n",
      "1                   4                  6  \n",
      "2                   5                  7  \n",
      "3                  12                 14  \n",
      "4                   8                 10  \n",
      "...               ...                ...  \n",
      "4710633          4008               4010  \n",
      "4710634          4008               4010  \n",
      "4710635          4008               4010  \n",
      "4710636          4008               4010  \n",
      "4710637          4008               4010  \n",
      "\n",
      "[4710638 rows x 16 columns]\n"
     ]
    }
   ],
   "source": [
    "print(data)"
   ]
  },
  {
   "cell_type": "code",
   "execution_count": 24,
   "metadata": {
    "id": "dVu29LEYah33",
    "tags": []
   },
   "outputs": [],
   "source": [
    "#entropi\n",
    "def RU(df):\n",
    "    if df.shape[0] == 1:\n",
    "        return 1.0\n",
    "    else:\n",
    "        proba = df.value_counts()/df.shape[0]\n",
    "        h = proba*np.log10(proba)\n",
    "        return -h.sum()/np.log10(df.shape[0])"
   ]
  },
  {
   "cell_type": "code",
   "execution_count": 25,
   "metadata": {
    "id": "q6vzDWl7a3al",
    "tags": []
   },
   "outputs": [],
   "source": [
    "X = pd.DataFrame()\n",
    "nb_windows = data['Window_upper_excl'].max()\n",
    "\n",
    "for i in range(0, nb_windows):\n",
    "    gc = data.loc[(data['Window_lower'] <= i) & (data['Window_upper_excl'] > i)].groupby('SrcAddr')\n",
    "    X = pd.concat([X,gc.agg({'Sport':[RU],\n",
    "                         'DstAddr':[RU],\n",
    "                         'Dport':[RU]}).reset_index()])"
   ]
  },
  {
   "cell_type": "code",
   "execution_count": 26,
   "metadata": {
    "colab": {
     "base_uri": "https://localhost:8080/"
    },
    "id": "Mo3Da9lNb1M4",
    "outputId": "67040bc1-19a3-48ad-dde9-03f5ed4a939c",
    "tags": []
   },
   "outputs": [
    {
     "name": "stdout",
     "output_type": "stream",
     "text": [
      "               SrcAddr Sport DstAddr Dport\n",
      "                          RU      RU    RU\n",
      "0              0.0.0.0   1.0     1.0   1.0\n",
      "1    00:15:17:2c:e5:2d   1.0     1.0   1.0\n",
      "2      106.158.147.110   1.0     1.0   1.0\n",
      "3           108.6.32.7   1.0     1.0   1.0\n",
      "4       109.110.228.27   1.0     1.0   1.0\n",
      "..                 ...   ...     ...   ...\n",
      "396     98.174.222.196   1.0     1.0   1.0\n",
      "397      98.207.48.170   1.0     1.0   1.0\n",
      "398      99.194.12.182   1.0     1.0   1.0\n",
      "399       99.254.70.11   1.0     1.0   1.0\n",
      "400       99.34.187.14   1.0     1.0   1.0\n",
      "\n",
      "[2024053 rows x 4 columns]\n"
     ]
    }
   ],
   "source": [
    "print(X)"
   ]
  },
  {
   "cell_type": "code",
   "execution_count": 27,
   "metadata": {
    "colab": {
     "base_uri": "https://localhost:8080/"
    },
    "id": "SlMBy4xwb2N_",
    "outputId": "89ad0610-db49-4746-a28f-297c57ccaeec",
    "tags": []
   },
   "outputs": [
    {
     "name": "stdout",
     "output_type": "stream",
     "text": [
      "Sport_RU      0.964012\n",
      "DstAddr_RU    0.882071\n",
      "Dport_RU      0.880979\n",
      "dtype: float64 Sport_RU      0.174145\n",
      "DstAddr_RU    0.307635\n",
      "Dport_RU      0.309181\n",
      "dtype: float64\n"
     ]
    }
   ],
   "source": [
    "X.columns = ['_'.join(col).strip() if isinstance(col, tuple) else col for col in X.columns.values]\n",
    "columns_to_normalize = list(X.columns.values)\n",
    "columns_to_normalize.remove('SrcAddr_')\n",
    "\n",
    "normalize_column(X, columns_to_normalize)"
   ]
  },
  {
   "cell_type": "code",
   "execution_count": 28,
   "metadata": {
    "colab": {
     "base_uri": "https://localhost:8080/"
    },
    "id": "Tf8UJAgUcfWg",
    "outputId": "e1c87aad-4398-4794-9494-c1df0ac40859",
    "tags": []
   },
   "outputs": [
    {
     "name": "stdout",
     "output_type": "stream",
     "text": [
      "              SrcAddr_  Sport_RU  DstAddr_RU  Dport_RU\n",
      "0              0.0.0.0  0.206657    0.383341  0.384955\n",
      "1    00:15:17:2c:e5:2d  0.206657    0.383341  0.384955\n",
      "2      106.158.147.110  0.206657    0.383341  0.384955\n",
      "3           108.6.32.7  0.206657    0.383341  0.384955\n",
      "4       109.110.228.27  0.206657    0.383341  0.384955\n",
      "..                 ...       ...         ...       ...\n",
      "396     98.174.222.196  0.206657    0.383341  0.384955\n",
      "397      98.207.48.170  0.206657    0.383341  0.384955\n",
      "398      99.194.12.182  0.206657    0.383341  0.384955\n",
      "399       99.254.70.11  0.206657    0.383341  0.384955\n",
      "400       99.34.187.14  0.206657    0.383341  0.384955\n",
      "\n",
      "[2024053 rows x 4 columns]\n"
     ]
    }
   ],
   "source": [
    "print(X)"
   ]
  },
  {
   "cell_type": "code",
   "execution_count": 29,
   "metadata": {
    "id": "iobAehg5chLC",
    "tags": []
   },
   "outputs": [],
   "source": [
    "X.drop('SrcAddr_', axis=1).to_hdf('data_window3_botnet3.h5', key=\"data\", mode=\"w\")\n",
    "np.save(\"data_window_botnet3_id3.npy\", X['SrcAddr_'])\n",
    "np.save(\"data_window_botnet3_labels3.npy\", labels)"
   ]
  },
  {
   "cell_type": "markdown",
   "metadata": {
    "id": "7bvqWupwcpuW"
   },
   "source": [
    "**TRAINING**"
   ]
  },
  {
   "cell_type": "code",
   "execution_count": 30,
   "metadata": {
    "id": "a2KMsrXMcvE6",
    "tags": []
   },
   "outputs": [],
   "source": [
    "data1 = pd.read_hdf('data_window_botnet3.h5', key='data')\n",
    "data1.reset_index(drop=True, inplace=True)\n",
    "\n",
    "data2 = pd.read_hdf('data_window3_botnet3.h5', key='data')\n",
    "data2.reset_index(drop=True, inplace=True)"
   ]
  },
  {
   "cell_type": "code",
   "execution_count": 31,
   "metadata": {
    "id": "SwLFbAVQdFO-",
    "tags": []
   },
   "outputs": [],
   "source": [
    "data = pd.concat([data1, data2], axis=1) #menggabungkan data"
   ]
  },
  {
   "cell_type": "code",
   "execution_count": 32,
   "metadata": {
    "colab": {
     "base_uri": "https://localhost:8080/"
    },
    "id": "crrbfHlQdYt-",
    "outputId": "785d9c1b-ce6a-4f18-a126-5d9aedbef9f0",
    "tags": []
   },
   "outputs": [
    {
     "name": "stdout",
     "output_type": "stream",
     "text": [
      "           counts  Sport_nunique  DstAddr_nunique  Dport_nunique   Dur_sum  \\\n",
      "0       -0.029219      -0.063408        -0.053469      -0.004937  0.546187   \n",
      "1       -0.029219      -0.084612        -0.053469      -0.013360  0.548073   \n",
      "2       -0.029219      -0.063408        -0.053469      -0.004937 -0.160237   \n",
      "3       -0.029219      -0.063408        -0.053469      -0.004937  0.447344   \n",
      "4       -0.029219      -0.063408        -0.053469      -0.004937 -0.163826   \n",
      "...           ...            ...              ...            ...       ...   \n",
      "2024048 -0.029219      -0.063408        -0.053469      -0.004937 -0.163826   \n",
      "2024049 -0.029219      -0.063408        -0.053469      -0.004937 -0.163826   \n",
      "2024050 -0.029219      -0.063408        -0.053469      -0.004937 -0.163826   \n",
      "2024051 -0.029219      -0.063408        -0.053469      -0.004937 -0.163826   \n",
      "2024052 -0.029219      -0.063408        -0.053469      -0.004937 -0.163826   \n",
      "\n",
      "         Dur_mean   Dur_std   Dur_max  Dur_median  TotBytes_sum  ...  \\\n",
      "0        2.644929 -0.150163  2.489406    2.639364     -0.000195  ...   \n",
      "1        2.653337 -0.150163  2.497443    2.647737     -0.007928  ...   \n",
      "2       -0.504383 -0.150163 -0.521016   -0.496778     -0.013977  ...   \n",
      "3        2.204278 -0.150163  2.068188    2.200555     -0.013920  ...   \n",
      "4       -0.520381 -0.150163 -0.536309   -0.512709     -0.014173  ...   \n",
      "...           ...       ...       ...         ...           ...  ...   \n",
      "2024048 -0.520381 -0.150163 -0.536309   -0.512709     -0.014173  ...   \n",
      "2024049 -0.520381 -0.150163 -0.536309   -0.512710     -0.014171  ...   \n",
      "2024050 -0.520381 -0.150163 -0.536309   -0.512709     -0.014173  ...   \n",
      "2024051 -0.520381 -0.150163 -0.536309   -0.512709     -0.014171  ...   \n",
      "2024052 -0.520380 -0.150163 -0.536308   -0.512708     -0.014126  ...   \n",
      "\n",
      "         SrcBytes_sum  SrcBytes_mean  SrcBytes_std  SrcBytes_max  \\\n",
      "0            0.017779       0.046272     -0.003493      0.018562   \n",
      "1            0.004348       0.017186     -0.003493      0.004935   \n",
      "2           -0.006351      -0.005984     -0.003493     -0.005919   \n",
      "3           -0.006057      -0.005346     -0.003493     -0.005620   \n",
      "4           -0.006512      -0.006331     -0.003493     -0.006082   \n",
      "...               ...            ...           ...           ...   \n",
      "2024048     -0.006512      -0.006331     -0.003493     -0.006082   \n",
      "2024049     -0.006494      -0.006293     -0.003493     -0.006064   \n",
      "2024050     -0.006509      -0.006325     -0.003493     -0.006079   \n",
      "2024051     -0.006507      -0.006322     -0.003493     -0.006077   \n",
      "2024052     -0.006428      -0.006150     -0.003493     -0.005997   \n",
      "\n",
      "         SrcBytes_median  Label_<lambda>  window_id_  Sport_RU  DstAddr_RU  \\\n",
      "0               0.054489               0           0  0.206657    0.383341   \n",
      "1               0.021048               0           0  0.206657    0.383341   \n",
      "2              -0.005592               0           0  0.206657    0.383341   \n",
      "3              -0.004858               0           0  0.206657    0.383341   \n",
      "4              -0.005990               0           0  0.206657    0.383341   \n",
      "...                  ...             ...         ...       ...         ...   \n",
      "2024048        -0.005990               0        4009  0.206657    0.383341   \n",
      "2024049        -0.005947               0        4009  0.206657    0.383341   \n",
      "2024050        -0.005984               0        4009  0.206657    0.383341   \n",
      "2024051        -0.005980               0        4009  0.206657    0.383341   \n",
      "2024052        -0.005782               0        4009  0.206657    0.383341   \n",
      "\n",
      "         Dport_RU  \n",
      "0        0.384955  \n",
      "1        0.384955  \n",
      "2        0.384955  \n",
      "3        0.384955  \n",
      "4        0.384955  \n",
      "...           ...  \n",
      "2024048  0.384955  \n",
      "2024049  0.384955  \n",
      "2024050  0.384955  \n",
      "2024051  0.384955  \n",
      "2024052  0.384955  \n",
      "\n",
      "[2024053 rows x 24 columns]\n"
     ]
    }
   ],
   "source": [
    "print(data)"
   ]
  },
  {
   "cell_type": "code",
   "execution_count": 33,
   "metadata": {
    "colab": {
     "base_uri": "https://localhost:8080/"
    },
    "id": "zZ8LQc8BdaS1",
    "outputId": "4c24bf18-0e18-4de0-fae0-cff5eba3c40c",
    "tags": []
   },
   "outputs": [
    {
     "name": "stdout",
     "output_type": "stream",
     "text": [
      "['counts' 'Sport_nunique' 'DstAddr_nunique' 'Dport_nunique' 'Dur_sum'\n",
      " 'Dur_mean' 'Dur_std' 'Dur_max' 'Dur_median' 'TotBytes_sum'\n",
      " 'TotBytes_mean' 'TotBytes_std' 'TotBytes_max' 'TotBytes_median'\n",
      " 'SrcBytes_sum' 'SrcBytes_mean' 'SrcBytes_std' 'SrcBytes_max'\n",
      " 'SrcBytes_median' 'Sport_RU' 'DstAddr_RU' 'Dport_RU']\n",
      "['flow=Background' 'flow=From-Norma' 'flow=Normal-V44' 'flow=From-Backg'\n",
      " 'flow=To-Backgro' 'flow=To-Normal-' 'flow=From-Botne']\n",
      "6\n"
     ]
    }
   ],
   "source": [
    "data.drop('window_id_', axis=1, inplace=True)\n",
    "\n",
    "y = data['Label_<lambda>']\n",
    "data.drop('Label_<lambda>', axis=1, inplace=True)\n",
    "\n",
    "labels = np.load('data_window_botnet3_labels.npy',allow_pickle=True)\n",
    "\n",
    "print(data.columns.values)\n",
    "print(labels)\n",
    "print(np.where(labels == 'flow=From-Botne')[0][0])"
   ]
  },
  {
   "cell_type": "code",
   "execution_count": 34,
   "metadata": {
    "id": "5wqP2rrTd-yA",
    "tags": []
   },
   "outputs": [],
   "source": [
    "y_bin6 = y==np.where(labels == 'flow=From-Botne')[0][0]\n",
    "X_train, X_test, y_train, y_test = model_selection.train_test_split(data, y_bin6, test_size=0.33, random_state=123456)"
   ]
  },
  {
   "cell_type": "code",
   "execution_count": 35,
   "metadata": {
    "colab": {
     "base_uri": "https://localhost:8080/",
     "height": 509
    },
    "id": "LmEA35Q3emCF",
    "outputId": "1a4061d3-4a4a-4a60-eaaf-477d8c8edca6",
    "tags": []
   },
   "outputs": [
    {
     "name": "stdout",
     "output_type": "stream",
     "text": [
      "1009\n",
      "2024053\n"
     ]
    },
    {
     "data": {
      "image/png": "[encoded data removed]",
      "text/plain": [
       "<Figure size 640x480 with 1 Axes>"
      ]
     },
     "metadata": {},
     "output_type": "display_data"
    }
   ],
   "source": [
    "# Hitung jumlah True dan False\n",
    "true_count = y_bin6.sum()\n",
    "false_count = len(y_bin6) - true_count\n",
    "print(true_count)\n",
    "print(y_bin6.size)\n",
    "# Plot sebaran\n",
    "plt.bar(['True', 'False'], [true_count, false_count], color=['blue', 'red'])\n",
    "plt.title('Sebaran Data True dan False dalam y_bin6')\n",
    "plt.xlabel('Kelas')\n",
    "plt.ylabel('Jumlah Data')\n",
    "plt.show()"
   ]
  },
  {
   "cell_type": "code",
   "execution_count": 36,
   "metadata": {
    "colab": {
     "base_uri": "https://localhost:8080/"
    },
    "id": "XGfGxxYSfQKJ",
    "outputId": "1ef9f9a0-23d8-4d4f-c074-c9732a11efcc",
    "tags": []
   },
   "outputs": [
    {
     "name": "stdout",
     "output_type": "stream",
     "text": [
      "(1356115, 22)\n",
      "y (array([0, 1, 2, 3, 4, 5, 6]), array([1903499,    5483,       5,     986,  112392,     679,    1009]))\n",
      "y_train (array([False,  True]), array([27109184,    13116]))\n",
      "y_test (array([False,  True]), array([667591,    347]))\n"
     ]
    }
   ],
   "source": [
    "print(X_train.shape)\n",
    "X_train_new, y_train_new = utils.resample(X_train, y_train, n_samples=X_train.shape[0]*20, random_state=123456)\n",
    "\n",
    "print(\"y\", np.unique(y, return_counts=True))\n",
    "print(\"y_train\", np.unique(y_train_new, return_counts=True))\n",
    "print(\"y_test\", np.unique(y_test, return_counts=True))\n"
   ]
  },
  {
   "cell_type": "code",
   "execution_count": 38,
   "metadata": {
    "colab": {
     "base_uri": "https://localhost:8080/",
     "height": 111
    },
    "id": "fwaRVvUlf6Jx",
    "outputId": "cca56014-5c31-4c89-f322-921c278001b0",
    "tags": []
   },
   "outputs": [
    {
     "name": "stdout",
     "output_type": "stream",
     "text": [
      "Random Forest Classifier\n"
     ]
    },
    {
     "name": "stderr",
     "output_type": "stream",
     "text": [
      "[Parallel(n_jobs=-1)]: Using backend ThreadingBackend with 8 concurrent workers.\n",
      "[Parallel(n_jobs=-1)]: Done  34 tasks      | elapsed:  7.6min\n",
      "[Parallel(n_jobs=-1)]: Done 100 out of 100 | elapsed: 21.6min finished\n"
     ]
    },
    {
     "data": {
      "text/html": [
       "<style>#sk-container-id-1 {\n",
       "  /* Definition of color scheme common for light and dark mode */\n",
       "  --sklearn-color-text: black;\n",
       "  --sklearn-color-line: gray;\n",
       "  /* Definition of color scheme for unfitted estimators */\n",
       "  --sklearn-color-unfitted-level-0: #fff5e6;\n",
       "  --sklearn-color-unfitted-level-1: #f6e4d2;\n",
       "  --sklearn-color-unfitted-level-2: #ffe0b3;\n",
       "  --sklearn-color-unfitted-level-3: chocolate;\n",
       "  /* Definition of color scheme for fitted estimators */\n",
       "  --sklearn-color-fitted-level-0: #f0f8ff;\n",
       "  --sklearn-color-fitted-level-1: #d4ebff;\n",
       "  --sklearn-color-fitted-level-2: #b3dbfd;\n",
       "  --sklearn-color-fitted-level-3: cornflowerblue;\n",
       "\n",
       "  /* Specific color for light theme */\n",
       "  --sklearn-color-text-on-default-background: var(--sg-text-color, var(--theme-code-foreground, var(--jp-content-font-color1, black)));\n",
       "  --sklearn-color-background: var(--sg-background-color, var(--theme-background, var(--jp-layout-color0, white)));\n",
       "  --sklearn-color-border-box: var(--sg-text-color, var(--theme-code-foreground, var(--jp-content-font-color1, black)));\n",
       "  --sklearn-color-icon: #696969;\n",
       "\n",
       "  @media (prefers-color-scheme: dark) {\n",
       "    /* Redefinition of color scheme for dark theme */\n",
       "    --sklearn-color-text-on-default-background: var(--sg-text-color, var(--theme-code-foreground, var(--jp-content-font-color1, white)));\n",
       "    --sklearn-color-background: var(--sg-background-color, var(--theme-background, var(--jp-layout-color0, #111)));\n",
       "    --sklearn-color-border-box: var(--sg-text-color, var(--theme-code-foreground, var(--jp-content-font-color1, white)));\n",
       "    --sklearn-color-icon: #878787;\n",
       "  }\n",
       "}\n",
       "\n",
       "#sk-container-id-1 {\n",
       "  color: var(--sklearn-color-text);\n",
       "}\n",
       "\n",
       "#sk-container-id-1 pre {\n",
       "  padding: 0;\n",
       "}\n",
       "\n",
       "#sk-container-id-1 input.sk-hidden--visually {\n",
       "  border: 0;\n",
       "  clip: rect(1px 1px 1px 1px);\n",
       "  clip: rect(1px, 1px, 1px, 1px);\n",
       "  height: 1px;\n",
       "  margin: -1px;\n",
       "  overflow: hidden;\n",
       "  padding: 0;\n",
       "  position: absolute;\n",
       "  width: 1px;\n",
       "}\n",
       "\n",
       "#sk-container-id-1 div.sk-dashed-wrapped {\n",
       "  border: 1px dashed var(--sklearn-color-line);\n",
       "  margin: 0 0.4em 0.5em 0.4em;\n",
       "  box-sizing: border-box;\n",
       "  padding-bottom: 0.4em;\n",
       "  background-color: var(--sklearn-color-background);\n",
       "}\n",
       "\n",
       "#sk-container-id-1 div.sk-container {\n",
       "  /* jupyter's `normalize.less` sets `[hidden] { display: none; }`\n",
       "     but bootstrap.min.css set `[hidden] { display: none !important; }`\n",
       "     so we also need the `!important` here to be able to override the\n",
       "     default hidden behavior on the sphinx rendered scikit-learn.org.\n",
       "     See: https://github.com/scikit-learn/scikit-learn/issues/21755 */\n",
       "  display: inline-block !important;\n",
       "  position: relative;\n",
       "}\n",
       "\n",
       "#sk-container-id-1 div.sk-text-repr-fallback {\n",
       "  display: none;\n",
       "}\n",
       "\n",
       "div.sk-parallel-item,\n",
       "div.sk-serial,\n",
       "div.sk-item {\n",
       "  /* draw centered vertical line to link estimators */\n",
       "  background-image: linear-gradient(var(--sklearn-color-text-on-default-background), var(--sklearn-color-text-on-default-background));\n",
       "  background-size: 2px 100%;\n",
       "  background-repeat: no-repeat;\n",
       "  background-position: center center;\n",
       "}\n",
       "\n",
       "/* Parallel-specific style estimator block */\n",
       "\n",
       "#sk-container-id-1 div.sk-parallel-item::after {\n",
       "  content: \"\";\n",
       "  width: 100%;\n",
       "  border-bottom: 2px solid var(--sklearn-color-text-on-default-background);\n",
       "  flex-grow: 1;\n",
       "}\n",
       "\n",
       "#sk-container-id-1 div.sk-parallel {\n",
       "  display: flex;\n",
       "  align-items: stretch;\n",
       "  justify-content: center;\n",
       "  background-color: var(--sklearn-color-background);\n",
       "  position: relative;\n",
       "}\n",
       "\n",
       "#sk-container-id-1 div.sk-parallel-item {\n",
       "  display: flex;\n",
       "  flex-direction: column;\n",
       "}\n",
       "\n",
       "#sk-container-id-1 div.sk-parallel-item:first-child::after {\n",
       "  align-self: flex-end;\n",
       "  width: 50%;\n",
       "}\n",
       "\n",
       "#sk-container-id-1 div.sk-parallel-item:last-child::after {\n",
       "  align-self: flex-start;\n",
       "  width: 50%;\n",
       "}\n",
       "\n",
       "#sk-container-id-1 div.sk-parallel-item:only-child::after {\n",
       "  width: 0;\n",
       "}\n",
       "\n",
       "/* Serial-specific style estimator block */\n",
       "\n",
       "#sk-container-id-1 div.sk-serial {\n",
       "  display: flex;\n",
       "  flex-direction: column;\n",
       "  align-items: center;\n",
       "  background-color: var(--sklearn-color-background);\n",
       "  padding-right: 1em;\n",
       "  padding-left: 1em;\n",
       "}\n",
       "\n",
       "\n",
       "/* Toggleable style: style used for estimator/Pipeline/ColumnTransformer box that is\n",
       "clickable and can be expanded/collapsed.\n",
       "- Pipeline and ColumnTransformer use this feature and define the default style\n",
       "- Estimators will overwrite some part of the style using the `sk-estimator` class\n",
       "*/\n",
       "\n",
       "/* Pipeline and ColumnTransformer style (default) */\n",
       "\n",
       "#sk-container-id-1 div.sk-toggleable {\n",
       "  /* Default theme specific background. It is overwritten whether we have a\n",
       "  specific estimator or a Pipeline/ColumnTransformer */\n",
       "  background-color: var(--sklearn-color-background);\n",
       "}\n",
       "\n",
       "/* Toggleable label */\n",
       "#sk-container-id-1 label.sk-toggleable__label {\n",
       "  cursor: pointer;\n",
       "  display: block;\n",
       "  width: 100%;\n",
       "  margin-bottom: 0;\n",
       "  padding: 0.5em;\n",
       "  box-sizing: border-box;\n",
       "  text-align: center;\n",
       "}\n",
       "\n",
       "#sk-container-id-1 label.sk-toggleable__label-arrow:before {\n",
       "  /* Arrow on the left of the label */\n",
       "  content: \"▸\";\n",
       "  float: left;\n",
       "  margin-right: 0.25em;\n",
       "  color: var(--sklearn-color-icon);\n",
       "}\n",
       "\n",
       "#sk-container-id-1 label.sk-toggleable__label-arrow:hover:before {\n",
       "  color: var(--sklearn-color-text);\n",
       "}\n",
       "\n",
       "/* Toggleable content - dropdown */\n",
       "\n",
       "#sk-container-id-1 div.sk-toggleable__content {\n",
       "  max-height: 0;\n",
       "  max-width: 0;\n",
       "  overflow: hidden;\n",
       "  text-align: left;\n",
       "  /* unfitted */\n",
       "  background-color: var(--sklearn-color-unfitted-level-0);\n",
       "}\n",
       "\n",
       "#sk-container-id-1 div.sk-toggleable__content.fitted {\n",
       "  /* fitted */\n",
       "  background-color: var(--sklearn-color-fitted-level-0);\n",
       "}\n",
       "\n",
       "#sk-container-id-1 div.sk-toggleable__content pre {\n",
       "  margin: 0.2em;\n",
       "  border-radius: 0.25em;\n",
       "  color: var(--sklearn-color-text);\n",
       "  /* unfitted */\n",
       "  background-color: var(--sklearn-color-unfitted-level-0);\n",
       "}\n",
       "\n",
       "#sk-container-id-1 div.sk-toggleable__content.fitted pre {\n",
       "  /* unfitted */\n",
       "  background-color: var(--sklearn-color-fitted-level-0);\n",
       "}\n",
       "\n",
       "#sk-container-id-1 input.sk-toggleable__control:checked~div.sk-toggleable__content {\n",
       "  /* Expand drop-down */\n",
       "  max-height: 200px;\n",
       "  max-width: 100%;\n",
       "  overflow: auto;\n",
       "}\n",
       "\n",
       "#sk-container-id-1 input.sk-toggleable__control:checked~label.sk-toggleable__label-arrow:before {\n",
       "  content: \"▾\";\n",
       "}\n",
       "\n",
       "/* Pipeline/ColumnTransformer-specific style */\n",
       "\n",
       "#sk-container-id-1 div.sk-label input.sk-toggleable__control:checked~label.sk-toggleable__label {\n",
       "  color: var(--sklearn-color-text);\n",
       "  background-color: var(--sklearn-color-unfitted-level-2);\n",
       "}\n",
       "\n",
       "#sk-container-id-1 div.sk-label.fitted input.sk-toggleable__control:checked~label.sk-toggleable__label {\n",
       "  background-color: var(--sklearn-color-fitted-level-2);\n",
       "}\n",
       "\n",
       "/* Estimator-specific style */\n",
       "\n",
       "/* Colorize estimator box */\n",
       "#sk-container-id-1 div.sk-estimator input.sk-toggleable__control:checked~label.sk-toggleable__label {\n",
       "  /* unfitted */\n",
       "  background-color: var(--sklearn-color-unfitted-level-2);\n",
       "}\n",
       "\n",
       "#sk-container-id-1 div.sk-estimator.fitted input.sk-toggleable__control:checked~label.sk-toggleable__label {\n",
       "  /* fitted */\n",
       "  background-color: var(--sklearn-color-fitted-level-2);\n",
       "}\n",
       "\n",
       "#sk-container-id-1 div.sk-label label.sk-toggleable__label,\n",
       "#sk-container-id-1 div.sk-label label {\n",
       "  /* The background is the default theme color */\n",
       "  color: var(--sklearn-color-text-on-default-background);\n",
       "}\n",
       "\n",
       "/* On hover, darken the color of the background */\n",
       "#sk-container-id-1 div.sk-label:hover label.sk-toggleable__label {\n",
       "  color: var(--sklearn-color-text);\n",
       "  background-color: var(--sklearn-color-unfitted-level-2);\n",
       "}\n",
       "\n",
       "/* Label box, darken color on hover, fitted */\n",
       "#sk-container-id-1 div.sk-label.fitted:hover label.sk-toggleable__label.fitted {\n",
       "  color: var(--sklearn-color-text);\n",
       "  background-color: var(--sklearn-color-fitted-level-2);\n",
       "}\n",
       "\n",
       "/* Estimator label */\n",
       "\n",
       "#sk-container-id-1 div.sk-label label {\n",
       "  font-family: monospace;\n",
       "  font-weight: bold;\n",
       "  display: inline-block;\n",
       "  line-height: 1.2em;\n",
       "}\n",
       "\n",
       "#sk-container-id-1 div.sk-label-container {\n",
       "  text-align: center;\n",
       "}\n",
       "\n",
       "/* Estimator-specific */\n",
       "#sk-container-id-1 div.sk-estimator {\n",
       "  font-family: monospace;\n",
       "  border: 1px dotted var(--sklearn-color-border-box);\n",
       "  border-radius: 0.25em;\n",
       "  box-sizing: border-box;\n",
       "  margin-bottom: 0.5em;\n",
       "  /* unfitted */\n",
       "  background-color: var(--sklearn-color-unfitted-level-0);\n",
       "}\n",
       "\n",
       "#sk-container-id-1 div.sk-estimator.fitted {\n",
       "  /* fitted */\n",
       "  background-color: var(--sklearn-color-fitted-level-0);\n",
       "}\n",
       "\n",
       "/* on hover */\n",
       "#sk-container-id-1 div.sk-estimator:hover {\n",
       "  /* unfitted */\n",
       "  background-color: var(--sklearn-color-unfitted-level-2);\n",
       "}\n",
       "\n",
       "#sk-container-id-1 div.sk-estimator.fitted:hover {\n",
       "  /* fitted */\n",
       "  background-color: var(--sklearn-color-fitted-level-2);\n",
       "}\n",
       "\n",
       "/* Specification for estimator info (e.g. \"i\" and \"?\") */\n",
       "\n",
       "/* Common style for \"i\" and \"?\" */\n",
       "\n",
       ".sk-estimator-doc-link,\n",
       "a:link.sk-estimator-doc-link,\n",
       "a:visited.sk-estimator-doc-link {\n",
       "  float: right;\n",
       "  font-size: smaller;\n",
       "  line-height: 1em;\n",
       "  font-family: monospace;\n",
       "  background-color: var(--sklearn-color-background);\n",
       "  border-radius: 1em;\n",
       "  height: 1em;\n",
       "  width: 1em;\n",
       "  text-decoration: none !important;\n",
       "  margin-left: 1ex;\n",
       "  /* unfitted */\n",
       "  border: var(--sklearn-color-unfitted-level-1) 1pt solid;\n",
       "  color: var(--sklearn-color-unfitted-level-1);\n",
       "}\n",
       "\n",
       ".sk-estimator-doc-link.fitted,\n",
       "a:link.sk-estimator-doc-link.fitted,\n",
       "a:visited.sk-estimator-doc-link.fitted {\n",
       "  /* fitted */\n",
       "  border: var(--sklearn-color-fitted-level-1) 1pt solid;\n",
       "  color: var(--sklearn-color-fitted-level-1);\n",
       "}\n",
       "\n",
       "/* On hover */\n",
       "div.sk-estimator:hover .sk-estimator-doc-link:hover,\n",
       ".sk-estimator-doc-link:hover,\n",
       "div.sk-label-container:hover .sk-estimator-doc-link:hover,\n",
       ".sk-estimator-doc-link:hover {\n",
       "  /* unfitted */\n",
       "  background-color: var(--sklearn-color-unfitted-level-3);\n",
       "  color: var(--sklearn-color-background);\n",
       "  text-decoration: none;\n",
       "}\n",
       "\n",
       "div.sk-estimator.fitted:hover .sk-estimator-doc-link.fitted:hover,\n",
       ".sk-estimator-doc-link.fitted:hover,\n",
       "div.sk-label-container:hover .sk-estimator-doc-link.fitted:hover,\n",
       ".sk-estimator-doc-link.fitted:hover {\n",
       "  /* fitted */\n",
       "  background-color: var(--sklearn-color-fitted-level-3);\n",
       "  color: var(--sklearn-color-background);\n",
       "  text-decoration: none;\n",
       "}\n",
       "\n",
       "/* Span, style for the box shown on hovering the info icon */\n",
       ".sk-estimator-doc-link span {\n",
       "  display: none;\n",
       "  z-index: 9999;\n",
       "  position: relative;\n",
       "  font-weight: normal;\n",
       "  right: .2ex;\n",
       "  padding: .5ex;\n",
       "  margin: .5ex;\n",
       "  width: min-content;\n",
       "  min-width: 20ex;\n",
       "  max-width: 50ex;\n",
       "  color: var(--sklearn-color-text);\n",
       "  box-shadow: 2pt 2pt 4pt #999;\n",
       "  /* unfitted */\n",
       "  background: var(--sklearn-color-unfitted-level-0);\n",
       "  border: .5pt solid var(--sklearn-color-unfitted-level-3);\n",
       "}\n",
       "\n",
       ".sk-estimator-doc-link.fitted span {\n",
       "  /* fitted */\n",
       "  background: var(--sklearn-color-fitted-level-0);\n",
       "  border: var(--sklearn-color-fitted-level-3);\n",
       "}\n",
       "\n",
       ".sk-estimator-doc-link:hover span {\n",
       "  display: block;\n",
       "}\n",
       "\n",
       "/* \"?\"-specific style due to the `<a>` HTML tag */\n",
       "\n",
       "#sk-container-id-1 a.estimator_doc_link {\n",
       "  float: right;\n",
       "  font-size: 1rem;\n",
       "  line-height: 1em;\n",
       "  font-family: monospace;\n",
       "  background-color: var(--sklearn-color-background);\n",
       "  border-radius: 1rem;\n",
       "  height: 1rem;\n",
       "  width: 1rem;\n",
       "  text-decoration: none;\n",
       "  /* unfitted */\n",
       "  color: var(--sklearn-color-unfitted-level-1);\n",
       "  border: var(--sklearn-color-unfitted-level-1) 1pt solid;\n",
       "}\n",
       "\n",
       "#sk-container-id-1 a.estimator_doc_link.fitted {\n",
       "  /* fitted */\n",
       "  border: var(--sklearn-color-fitted-level-1) 1pt solid;\n",
       "  color: var(--sklearn-color-fitted-level-1);\n",
       "}\n",
       "\n",
       "/* On hover */\n",
       "#sk-container-id-1 a.estimator_doc_link:hover {\n",
       "  /* unfitted */\n",
       "  background-color: var(--sklearn-color-unfitted-level-3);\n",
       "  color: var(--sklearn-color-background);\n",
       "  text-decoration: none;\n",
       "}\n",
       "\n",
       "#sk-container-id-1 a.estimator_doc_link.fitted:hover {\n",
       "  /* fitted */\n",
       "  background-color: var(--sklearn-color-fitted-level-3);\n",
       "}\n",
       "</style><div id=\"sk-container-id-1\" class=\"sk-top-container\"><div class=\"sk-text-repr-fallback\"><pre>RandomForestClassifier(n_jobs=-1, random_state=123456, verbose=1)</pre><b>In a Jupyter environment, please rerun this cell to show the HTML representation or trust the notebook. <br />On GitHub, the HTML representation is unable to render, please try loading this page with nbviewer.org.</b></div><div class=\"sk-container\" hidden><div class=\"sk-item\"><div class=\"sk-estimator fitted sk-toggleable\"><input class=\"sk-toggleable__control sk-hidden--visually\" id=\"sk-estimator-id-1\" type=\"checkbox\" checked><label for=\"sk-estimator-id-1\" class=\"sk-toggleable__label fitted sk-toggleable__label-arrow fitted\">&nbsp;&nbsp;RandomForestClassifier<a class=\"sk-estimator-doc-link fitted\" rel=\"noreferrer\" target=\"_blank\" href=\"https://scikit-learn.org/1.4/modules/generated/sklearn.ensemble.RandomForestClassifier.html\">?<span>Documentation for RandomForestClassifier</span></a><span class=\"sk-estimator-doc-link fitted\">i<span>Fitted</span></span></label><div class=\"sk-toggleable__content fitted\"><pre>RandomForestClassifier(n_jobs=-1, random_state=123456, verbose=1)</pre></div> </div></div></div></div>"
      ],
      "text/plain": [
       "RandomForestClassifier(n_jobs=-1, random_state=123456, verbose=1)"
      ]
     },
     "execution_count": 38,
     "metadata": {},
     "output_type": "execute_result"
    }
   ],
   "source": [
    "## Embedded Method\n",
    "print(\"Random Forest Classifier\")\n",
    "\n",
    "clf = ensemble.RandomForestClassifier(\n",
    "    n_estimators=100, \n",
    "    random_state=123456, \n",
    "    verbose=1, \n",
    "    class_weight=None, \n",
    "    n_jobs=-1  # Menambahkan parameter n_jobs\n",
    ")\n",
    "clf.fit(X_train_new, y_train_new)"
   ]
  },
  {
   "cell_type": "code",
   "execution_count": 39,
   "metadata": {
    "colab": {
     "base_uri": "https://localhost:8080/"
    },
    "id": "TwdOUeGdgRC0",
    "outputId": "a0ccddf5-dbee-400e-803d-3b0543c1a840",
    "tags": []
   },
   "outputs": [
    {
     "name": "stdout",
     "output_type": "stream",
     "text": [
      "Train\n"
     ]
    },
    {
     "name": "stderr",
     "output_type": "stream",
     "text": [
      "[Parallel(n_jobs=8)]: Using backend ThreadingBackend with 8 concurrent workers.\n",
      "[Parallel(n_jobs=8)]: Done  34 tasks      | elapsed:   11.4s\n",
      "[Parallel(n_jobs=8)]: Done 100 out of 100 | elapsed:   29.8s finished\n"
     ]
    },
    {
     "name": "stdout",
     "output_type": "stream",
     "text": [
      "accuracy score =  0.9929094236047575\n",
      "precision =  1.0\n",
      "recall =  0.9858188472095151\n",
      "fbeta_score =  0.9928587882976273\n",
      "support =  13116\n"
     ]
    }
   ],
   "source": [
    "print(\"Train\")\n",
    "y_pred_train = clf.predict(X_train_new)\n",
    "print(\"accuracy score = \", metrics.balanced_accuracy_score(y_train_new, y_pred_train))\n",
    "precision, recall, fbeta_score, support = metrics.precision_recall_fscore_support(y_train_new, y_pred_train)\n",
    "print(\"precision = \", precision[1])\n",
    "print(\"recall = \", recall[1])\n",
    "print(\"fbeta_score = \", fbeta_score[1])\n",
    "print(\"support = \", support[1])"
   ]
  },
  {
   "cell_type": "code",
   "execution_count": 40,
   "metadata": {
    "colab": {
     "base_uri": "https://localhost:8080/"
    },
    "id": "_8bQb6RggXXC",
    "outputId": "506d9b42-2238-40a5-8a83-40076026938f",
    "tags": []
   },
   "outputs": [
    {
     "name": "stdout",
     "output_type": "stream",
     "text": [
      "Test\n"
     ]
    },
    {
     "name": "stderr",
     "output_type": "stream",
     "text": [
      "[Parallel(n_jobs=8)]: Using backend ThreadingBackend with 8 concurrent workers.\n",
      "[Parallel(n_jobs=8)]: Done  34 tasks      | elapsed:    0.3s\n",
      "[Parallel(n_jobs=8)]: Done 100 out of 100 | elapsed:    0.7s finished\n"
     ]
    },
    {
     "name": "stdout",
     "output_type": "stream",
     "text": [
      "accuracy score =  0.9827089337175792\n",
      "precision =  1.0\n",
      "recall =  0.9654178674351584\n",
      "fbeta_score =  0.9824046920821115\n",
      "support =  347\n"
     ]
    }
   ],
   "source": [
    "print(\"Test\")\n",
    "y_pred_test = clf.predict(X_test)\n",
    "print(\"accuracy score = \", metrics.balanced_accuracy_score(y_test, y_pred_test))\n",
    "precision, recall, fbeta_score, support = metrics.precision_recall_fscore_support(y_test, y_pred_test)\n",
    "print(\"precision = \", precision[1])\n",
    "print(\"recall = \", recall[1])\n",
    "print(\"fbeta_score = \", fbeta_score[1])\n",
    "print(\"support = \", support[1])"
   ]
  },
  {
   "cell_type": "code",
   "execution_count": null,
   "metadata": {
    "id": "p929lfQchGwc"
   },
   "outputs": [],
   "source": [
    "feature_importances = clf.feature_importances_\n",
    "feature_names = data.columns"
   ]
  },
  {
   "cell_type": "code",
   "execution_count": null,
   "metadata": {
    "colab": {
     "base_uri": "https://localhost:8080/"
    },
    "id": "becgFEA7iGYg",
    "outputId": "d7c3501b-71ca-4d69-8660-c644fde381fd"
   },
   "outputs": [
    {
     "name": "stdout",
     "output_type": "stream",
     "text": [
      "            feature  importance\n",
      "14     SrcBytes_sum    0.097121\n",
      "0            counts    0.086464\n",
      "1     Sport_nunique    0.078776\n",
      "12     TotBytes_max    0.064442\n",
      "13  TotBytes_median    0.056678\n",
      "19         Sport_RU    0.055982\n",
      "16     SrcBytes_std    0.052271\n",
      "18  SrcBytes_median    0.050797\n",
      "17     SrcBytes_max    0.048622\n",
      "8        Dur_median    0.044543\n",
      "20       DstAddr_RU    0.044219\n",
      "15    SrcBytes_mean    0.041778\n",
      "21         Dport_RU    0.037402\n",
      "4           Dur_sum    0.036413\n",
      "9      TotBytes_sum    0.031445\n",
      "10    TotBytes_mean    0.030191\n",
      "7           Dur_max    0.028992\n",
      "6           Dur_std    0.028219\n",
      "5          Dur_mean    0.027507\n",
      "11     TotBytes_std    0.024683\n",
      "2   DstAddr_nunique    0.017704\n",
      "3     Dport_nunique    0.015751\n"
     ]
    }
   ],
   "source": [
    "feature_importances_df = pd.DataFrame({\n",
    "    'feature': feature_names,\n",
    "    'importance': feature_importances\n",
    "})\n",
    "\n",
    "# Mengurutkan berdasarkan importansi\n",
    "feature_importances_df = feature_importances_df.sort_values(by='importance', ascending=False)\n",
    "\n",
    "# Tampilkan tingkat kepentingan fitur\n",
    "print(feature_importances_df)"
   ]
  },
  {
   "cell_type": "code",
   "execution_count": null,
   "metadata": {
    "colab": {
     "base_uri": "https://localhost:8080/",
     "height": 564
    },
    "id": "hUhWyVsXiG_x",
    "outputId": "3523505d-4491-40c8-8bd6-765381b65c6d"
   },
   "outputs": [
    {
     "data": {
      "image/png": "[encoded data removed]",
      "text/plain": [
       "<Figure size 1000x600 with 1 Axes>"
      ]
     },
     "metadata": {},
     "output_type": "display_data"
    }
   ],
   "source": [
    "plt.figure(figsize=(10, 6))\n",
    "plt.barh(feature_importances_df['feature'], feature_importances_df['importance'])\n",
    "plt.xlabel('Feature Importance')\n",
    "plt.ylabel('Feature')\n",
    "plt.title('Feature Importance in Random Forest')\n",
    "plt.show()"
   ]
  },
  {
   "cell_type": "code",
   "execution_count": 13,
   "metadata": {
    "id": "fZwJ2kmeiKjn",
    "tags": []
   },
   "outputs": [],
   "source": [
    "d1 = pd.read_hdf('data_window_botnet3.h5', key='data')\n",
    "d1.reset_index(drop=True, inplace=True)\n",
    "\n",
    "d2 = pd.read_hdf('data_window3_botnet3.h5', key='data')\n",
    "d2.reset_index(drop=True, inplace=True)\n",
    "\n",
    "d3 = np.load('data_window_botnet3_id.npy',allow_pickle=True)\n",
    "\n",
    "d4 = np.load('data_window_botnet3_id3.npy', allow_pickle=True)\n",
    "\n",
    "d5 = np.load('data_window_botnet3_labels.npy',allow_pickle=True)\n",
    "\n",
    "d6 = np.load('data_window_botnet3_labels3.npy',allow_pickle=True)"
   ]
  },
  {
   "cell_type": "code",
   "execution_count": 14,
   "metadata": {
    "tags": []
   },
   "outputs": [
    {
     "name": "stdout",
     "output_type": "stream",
     "text": [
      "           counts  Sport_nunique  DstAddr_nunique  Dport_nunique   Dur_sum  \\\n",
      "0       -0.029219      -0.063408        -0.053469      -0.004937  0.546187   \n",
      "1       -0.029219      -0.084612        -0.053469      -0.013360  0.548073   \n",
      "2       -0.029219      -0.063408        -0.053469      -0.004937 -0.160237   \n",
      "3       -0.029219      -0.063408        -0.053469      -0.004937  0.447344   \n",
      "4       -0.029219      -0.063408        -0.053469      -0.004937 -0.163826   \n",
      "...           ...            ...              ...            ...       ...   \n",
      "2024048 -0.029219      -0.063408        -0.053469      -0.004937 -0.163826   \n",
      "2024049 -0.029219      -0.063408        -0.053469      -0.004937 -0.163826   \n",
      "2024050 -0.029219      -0.063408        -0.053469      -0.004937 -0.163826   \n",
      "2024051 -0.029219      -0.063408        -0.053469      -0.004937 -0.163826   \n",
      "2024052 -0.029219      -0.063408        -0.053469      -0.004937 -0.163826   \n",
      "\n",
      "         Dur_mean   Dur_std   Dur_max  Dur_median  TotBytes_sum  ...  \\\n",
      "0        2.644929 -0.150163  2.489406    2.639364     -0.000195  ...   \n",
      "1        2.653337 -0.150163  2.497443    2.647737     -0.007928  ...   \n",
      "2       -0.504383 -0.150163 -0.521016   -0.496778     -0.013977  ...   \n",
      "3        2.204278 -0.150163  2.068188    2.200555     -0.013920  ...   \n",
      "4       -0.520381 -0.150163 -0.536309   -0.512709     -0.014173  ...   \n",
      "...           ...       ...       ...         ...           ...  ...   \n",
      "2024048 -0.520381 -0.150163 -0.536309   -0.512709     -0.014173  ...   \n",
      "2024049 -0.520381 -0.150163 -0.536309   -0.512710     -0.014171  ...   \n",
      "2024050 -0.520381 -0.150163 -0.536309   -0.512709     -0.014173  ...   \n",
      "2024051 -0.520381 -0.150163 -0.536309   -0.512709     -0.014171  ...   \n",
      "2024052 -0.520380 -0.150163 -0.536308   -0.512708     -0.014126  ...   \n",
      "\n",
      "         TotBytes_std  TotBytes_max  TotBytes_median  SrcBytes_sum  \\\n",
      "0           -0.008719      0.003837         0.019179      0.017779   \n",
      "1           -0.008719     -0.005394         0.003701      0.004348   \n",
      "2           -0.008719     -0.012613        -0.008403     -0.006351   \n",
      "3           -0.008719     -0.012545        -0.008288     -0.006057   \n",
      "4           -0.008719     -0.012847        -0.008796     -0.006512   \n",
      "...               ...           ...              ...           ...   \n",
      "2024048     -0.008719     -0.012847        -0.008796     -0.006512   \n",
      "2024049     -0.008719     -0.012845        -0.008792     -0.006494   \n",
      "2024050     -0.008719     -0.012847        -0.008795     -0.006509   \n",
      "2024051     -0.008719     -0.012845        -0.008792     -0.006507   \n",
      "2024052     -0.008719     -0.012791        -0.008702     -0.006428   \n",
      "\n",
      "         SrcBytes_mean  SrcBytes_std  SrcBytes_max  SrcBytes_median  \\\n",
      "0             0.046272     -0.003493      0.018562         0.054489   \n",
      "1             0.017186     -0.003493      0.004935         0.021048   \n",
      "2            -0.005984     -0.003493     -0.005919        -0.005592   \n",
      "3            -0.005346     -0.003493     -0.005620        -0.004858   \n",
      "4            -0.006331     -0.003493     -0.006082        -0.005990   \n",
      "...                ...           ...           ...              ...   \n",
      "2024048      -0.006331     -0.003493     -0.006082        -0.005990   \n",
      "2024049      -0.006293     -0.003493     -0.006064        -0.005947   \n",
      "2024050      -0.006325     -0.003493     -0.006079        -0.005984   \n",
      "2024051      -0.006322     -0.003493     -0.006077        -0.005980   \n",
      "2024052      -0.006150     -0.003493     -0.005997        -0.005782   \n",
      "\n",
      "         Label_<lambda>  window_id_  \n",
      "0                     0           0  \n",
      "1                     0           0  \n",
      "2                     0           0  \n",
      "3                     0           0  \n",
      "4                     0           0  \n",
      "...                 ...         ...  \n",
      "2024048               0        4009  \n",
      "2024049               0        4009  \n",
      "2024050               0        4009  \n",
      "2024051               0        4009  \n",
      "2024052               0        4009  \n",
      "\n",
      "[2024053 rows x 21 columns]          Sport_RU  DstAddr_RU  Dport_RU\n",
      "0        0.206657    0.383341  0.384955\n",
      "1        0.206657    0.383341  0.384955\n",
      "2        0.206657    0.383341  0.384955\n",
      "3        0.206657    0.383341  0.384955\n",
      "4        0.206657    0.383341  0.384955\n",
      "...           ...         ...       ...\n",
      "2024048  0.206657    0.383341  0.384955\n",
      "2024049  0.206657    0.383341  0.384955\n",
      "2024050  0.206657    0.383341  0.384955\n",
      "2024051  0.206657    0.383341  0.384955\n",
      "2024052  0.206657    0.383341  0.384955\n",
      "\n",
      "[2024053 rows x 3 columns]\n"
     ]
    }
   ],
   "source": [
    "print(d1,d2)"
   ]
  },
  {
   "cell_type": "code",
   "execution_count": 15,
   "metadata": {
    "tags": []
   },
   "outputs": [
    {
     "name": "stdout",
     "output_type": "stream",
     "text": [
      "['0.0.0.0' '00:15:17:2c:e5:2d' '106.158.147.110' ... '99.194.12.182'\n",
      " '99.254.70.11' '99.34.187.14']\n"
     ]
    }
   ],
   "source": [
    "print(d3)"
   ]
  },
  {
   "cell_type": "code",
   "execution_count": 16,
   "metadata": {
    "tags": []
   },
   "outputs": [
    {
     "name": "stdout",
     "output_type": "stream",
     "text": [
      "['0.0.0.0' '00:15:17:2c:e5:2d' '106.158.147.110' ... '99.194.12.182'\n",
      " '99.254.70.11' '99.34.187.14']\n"
     ]
    }
   ],
   "source": [
    "print(d4)"
   ]
  },
  {
   "cell_type": "code",
   "execution_count": 17,
   "metadata": {
    "tags": []
   },
   "outputs": [
    {
     "name": "stdout",
     "output_type": "stream",
     "text": [
      "['flow=Background' 'flow=From-Norma' 'flow=Normal-V44' 'flow=From-Backg'\n",
      " 'flow=To-Backgro' 'flow=To-Normal-' 'flow=From-Botne']\n"
     ]
    }
   ],
   "source": [
    "print(d5)"
   ]
  },
  {
   "cell_type": "code",
   "execution_count": 18,
   "metadata": {
    "tags": []
   },
   "outputs": [
    {
     "name": "stdout",
     "output_type": "stream",
     "text": [
      "['flow=Background' 'flow=From-Norma' 'flow=Normal-V44' 'flow=From-Backg'\n",
      " 'flow=To-Backgro' 'flow=To-Normal-' 'flow=From-Botne']\n"
     ]
    }
   ],
   "source": [
    "print(d6)"
   ]
  },
  {
   "cell_type": "code",
   "execution_count": null,
   "metadata": {},
   "outputs": [],
   "source": []
  }
 ],
 "metadata": {
  "colab": {
   "provenance": []
  },
  "kernelspec": {
   "display_name": "TensorFlow 2.12 (Local)",
   "language": "python",
   "name": "tf2-2-12"
  },
  "language_info": {
   "codemirror_mode": {
    "name": "ipython",
    "version": 3
   },
   "file_extension": ".py",
   "mimetype": "text/x-python",
   "name": "python",
   "nbconvert_exporter": "python",
   "pygments_lexer": "ipython3",
   "version": "3.10.14"
  }
 },
 "nbformat": 4,
 "nbformat_minor": 4
}
